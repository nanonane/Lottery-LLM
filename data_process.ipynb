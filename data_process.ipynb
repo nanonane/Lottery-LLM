{
 "cells": [
  {
   "cell_type": "code",
   "execution_count": 86,
   "metadata": {},
   "outputs": [
    {
     "name": "stdout",
     "output_type": "stream",
     "text": [
      "<class 'pandas._libs.tslibs.timestamps.Timestamp'>\n"
     ]
    },
    {
     "data": {
      "text/plain": [
       "datetime.date(2003, 3, 1)"
      ]
     },
     "execution_count": 86,
     "metadata": {},
     "output_type": "execute_result"
    }
   ],
   "source": [
    "import pandas as pd\n",
    "import numpy as np\n",
    "import os\n",
    "import datetime\n",
    "\n",
    "file_name = \"./data/ssq_asc.txt\"\n",
    "file = pd.read_csv(file_name,delimiter=\" \")\n",
    "file.columns = ['ID', 'Date', 'Red1', 'Red2', 'Red3', 'Red4', 'Red5',\n",
    "                'Red6', 'Blue', 'Out1', 'Out2', 'Out3', 'Out4', 'Out5',\n",
    "                  'Out6', 'Num13', 'Num14', 'Num15', 'Num16', 'Num17',\n",
    "                    'Num18', 'Num19', 'Num20', 'Num21', 'Num22', 'Num23',\n",
    "                      'Num24', 'Num25', 'Num26']\n",
    "date_data = pd.to_datetime(file[\"Date\"])\n",
    "d = date_data[0]\n",
    "print(type(d))\n",
    "d.month\n",
    "d.date()\n",
    "d.date() + datetime.timedelta(days=2)"
   ]
  },
  {
   "cell_type": "markdown",
   "metadata": {},
   "source": [
    "\n",
    "\n"
   ]
  },
  {
   "cell_type": "code",
   "execution_count": 73,
   "metadata": {},
   "outputs": [
    {
     "name": "stdout",
     "output_type": "stream",
     "text": [
      "在2003年3月6日，我想买一注双色球彩票，应该选择哪些号码？\n",
      "我的预测是：红球为13, 4, 7, 25, 6, 10，蓝球为3\n"
     ]
    }
   ],
   "source": [
    "# construct dataset\n",
    "# prompting\n",
    "\n",
    "\n",
    "class GeneratePrompt:\n",
    "    def __init__(self) -> None:\n",
    "\n",
    "        self.template = [\"我想在[YY年MM月DD日]买一注[NN]彩票，哪个号码中奖概率最高？\",\n",
    "                    \"我计划在[YY年MM月DD日]购买一注[NN]彩票，哪些号码中奖的几率最大？\",\n",
    "                    \"在[YY年MM月DD日]，我想买一注[NN]彩票，应该选择哪些号码？\",\n",
    "                    \"如果我在[YY年MM月DD日]买一注[NN]彩票，哪些号码最有可能中奖？\",\n",
    "                    \"请告诉我在[YY年MM月DD日]购买[NN]彩票时，哪些号码中奖概率最高？\",\n",
    "                    \"我打算在[YY年MM月DD日]买一注[NN]彩票，哪些号码最有可能中奖？\", \n",
    "                    \"在[YY年MM月DD日]，我想买一注[NN]彩票，中奖概率最高的号码是什么？\",\n",
    "                    \"如果我在[YY年MM月DD日]购买一注[NN]彩票，哪些号码最有希望中奖？\",\n",
    "                    \"请预测在[YY年MM月DD日]购买[NN]彩票时，哪些号码中奖的几率最大？\",\n",
    "                    \"预测一下[YY年MM月DD日]的[NN]彩票开奖号码。\",\n",
    "                    \"请预测[YY年MM月DD日]的[NN]彩票中奖号码。\",\n",
    "                    \"你能告诉我[YY年MM月DD日]的[NN]彩票可能的中奖号码吗？\",\n",
    "                    \"预测一下在[YY年MM月DD日]，[NN]彩票的中奖号码会是什么？\",\n",
    "                    \"请预测[YY年MM月DD日]的[NN]彩票号码。\",\n",
    "                    \"你能预测[YY年MM月DD日]的[NN]彩票中奖号码吗？\",\n",
    "                    \"请告诉我[YY年MM月DD日]的[NN]彩票可能的中奖号码。\",\n",
    "                    \"预测一下[YY年MM月DD日]，[NN]彩票的中奖号码。\",\n",
    "                    \"你能预测一下[YY年MM月DD日]的[NN]彩票号码吗？\"]\n",
    "        \n",
    "        self.idx_number = len(self.template)\n",
    "        \n",
    "    def input_prompt(self, date: pd.Timestamp):\n",
    "        prompt_idx = np.random.randint(self.idx_number)\n",
    "        prompt = self.template[prompt_idx]\n",
    "        date_text = f\"{date.year}年{date.month}月{date.day}日\"\n",
    "        new_input = prompt.replace(\"[YY年MM月DD日]\", date_text)\n",
    "        new_input = new_input.replace(\"[NN]\",\"双色球\")\n",
    "        return new_input\n",
    "    \n",
    "    def output_prompt(self, red_balls, blue_balls):\n",
    "        red_balls_str = f\"{red_balls[0]}, {red_balls[1]}, {red_balls[2]}, {red_balls[3]}, {red_balls[4]}, {red_balls[5]}\"\n",
    "        new_output = f\"我的预测是：红球为{red_balls_str}，蓝球为{blue_balls}\"\n",
    "        return new_output\n",
    "\n",
    "gp = GeneratePrompt()\n",
    "input_1 = gp.input_prompt(date_data[2])\n",
    "print(input_1)\n",
    "red_balls = np.column_stack([np.array(file[\"Out1\"]), \n",
    "             np.array(file[\"Out2\"]),\n",
    "             np.array(file[\"Out3\"]),\n",
    "             np.array(file[\"Out4\"]),\n",
    "             np.array(file[\"Out5\"]),\n",
    "             np.array(file[\"Out6\"])])\n",
    "blue_balls = np.array(file[\"Blue\"])\n",
    "output_1 = gp.output_prompt(red_balls[2],blue_balls[2])\n",
    "print(output_1)\n",
    "# date_data = file[\"Date\"]\n",
    "# date_data = np.datetime64(date_data)\n",
    "# date1 = date_data[0]\n",
    "# year1 = date1.year()\n",
    "\n",
    "# TODO: 在Prompting前插值"
   ]
  },
  {
   "cell_type": "code",
   "execution_count": null,
   "metadata": {},
   "outputs": [],
   "source": []
  }
 ],
 "metadata": {
  "kernelspec": {
   "display_name": "huawei",
   "language": "python",
   "name": "python3"
  },
  "language_info": {
   "codemirror_mode": {
    "name": "ipython",
    "version": 3
   },
   "file_extension": ".py",
   "mimetype": "text/x-python",
   "name": "python",
   "nbconvert_exporter": "python",
   "pygments_lexer": "ipython3",
   "version": "3.9.19"
  }
 },
 "nbformat": 4,
 "nbformat_minor": 2
}
